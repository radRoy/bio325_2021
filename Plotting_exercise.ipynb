{
 "cells": [
  {
   "cell_type": "markdown",
   "id": "eca4328e-7a0c-432b-84f9-043ee50ec859",
   "metadata": {},
   "source": [
    "# Plotting data in Python using Pandas, Matplotlib and Seaborn"
   ]
  },
  {
   "cell_type": "markdown",
   "id": "10e8978e-0178-4c30-a43a-910af52e8a6d",
   "metadata": {},
   "source": [
    "In this tutorial you will learn:\n",
    "- Basic data wrangling using the pandas library\n",
    "- How to create plots using matplotlib and seaborn\n"
   ]
  },
  {
   "cell_type": "markdown",
   "id": "1fdb76b5-1d04-4de1-9003-0af668880068",
   "metadata": {},
   "source": [
    "Let's start with some imports:"
   ]
  },
  {
   "cell_type": "code",
   "execution_count": 1,
   "id": "847d8596-f5ab-4b3b-a1f1-bc5a56b57fc0",
   "metadata": {},
   "outputs": [],
   "source": [
    "import pandas as pd\n",
    "import matplotlib.pyplot as plt\n",
    "import seaborn as sns\n",
    "import numpy as np"
   ]
  },
  {
   "cell_type": "markdown",
   "id": "24d6fded-d2e9-4906-84a0-987b52670d64",
   "metadata": {},
   "source": [
    "& loading the data. The `metadata.csv` file contains metadata on the embryo level like cell*count* or wheter it's a *control* embryo. `all_features.csv` contains the single-cell measurements, whereas the individual objects are uniquely identified by their `filename_prefix` and `Label`."
   ]
  },
  {
   "cell_type": "code",
   "execution_count": 5,
   "id": "7e0bd92c-4cb1-488c-b09d-e5f9ebbaa03b",
   "metadata": {},
   "outputs": [],
   "source": [
    "metadata = pd.read_csv('metadata.csv')\n",
    "features_all = pd.read_csv('features.csv')"
   ]
  },
  {
   "cell_type": "code",
   "execution_count": 6,
   "id": "fe73e24e-fcdc-4251-a55d-170f78515f37",
   "metadata": {},
   "outputs": [],
   "source": [
    "features_all = features_all.set_index(['filename_prefix', 'Label'])\n",
    "metadata = metadata.set_index('filename_prefix')"
   ]
  },
  {
   "cell_type": "markdown",
   "id": "12ee14fe-836d-4ebc-b354-af906af0ba76",
   "metadata": {},
   "source": [
    "Look at the first 5 row of the dataframes and try to understand them."
   ]
  },
  {
   "cell_type": "code",
   "execution_count": 28,
   "id": "2fa97269-41c1-49c4-b567-82292ac400cf",
   "metadata": {},
   "outputs": [
    {
     "data": {
      "text/html": [
       "<div>\n",
       "<style scoped>\n",
       "    .dataframe tbody tr th:only-of-type {\n",
       "        vertical-align: middle;\n",
       "    }\n",
       "\n",
       "    .dataframe tbody tr th {\n",
       "        vertical-align: top;\n",
       "    }\n",
       "\n",
       "    .dataframe thead th {\n",
       "        text-align: right;\n",
       "    }\n",
       "</style>\n",
       "<table border=\"1\" class=\"dataframe\">\n",
       "  <thead>\n",
       "    <tr style=\"text-align: right;\">\n",
       "      <th></th>\n",
       "      <th>count</th>\n",
       "      <th>log2_count</th>\n",
       "      <th>cycle</th>\n",
       "      <th>control</th>\n",
       "      <th>replicate</th>\n",
       "      <th>turned</th>\n",
       "    </tr>\n",
       "    <tr>\n",
       "      <th>filename_prefix</th>\n",
       "      <th></th>\n",
       "      <th></th>\n",
       "      <th></th>\n",
       "      <th></th>\n",
       "      <th></th>\n",
       "      <th></th>\n",
       "    </tr>\n",
       "  </thead>\n",
       "  <tbody>\n",
       "    <tr>\n",
       "      <th>20210331_Timecourse5EU_s10_NA</th>\n",
       "      <td>270</td>\n",
       "      <td>8.076816</td>\n",
       "      <td>8.0</td>\n",
       "      <td>False</td>\n",
       "      <td>0</td>\n",
       "      <td>False</td>\n",
       "    </tr>\n",
       "    <tr>\n",
       "      <th>20210331_Timecourse5EU_s11_NA</th>\n",
       "      <td>3773</td>\n",
       "      <td>11.881496</td>\n",
       "      <td>12.0</td>\n",
       "      <td>False</td>\n",
       "      <td>0</td>\n",
       "      <td>False</td>\n",
       "    </tr>\n",
       "    <tr>\n",
       "      <th>20210331_Timecourse5EU_s12_NA</th>\n",
       "      <td>541</td>\n",
       "      <td>9.079485</td>\n",
       "      <td>9.0</td>\n",
       "      <td>False</td>\n",
       "      <td>0</td>\n",
       "      <td>False</td>\n",
       "    </tr>\n",
       "    <tr>\n",
       "      <th>20210331_Timecourse5EU_s13_NA</th>\n",
       "      <td>126</td>\n",
       "      <td>6.977280</td>\n",
       "      <td>7.0</td>\n",
       "      <td>False</td>\n",
       "      <td>0</td>\n",
       "      <td>False</td>\n",
       "    </tr>\n",
       "    <tr>\n",
       "      <th>20210331_Timecourse5EU_s14_NA</th>\n",
       "      <td>4005</td>\n",
       "      <td>11.967587</td>\n",
       "      <td>12.0</td>\n",
       "      <td>False</td>\n",
       "      <td>0</td>\n",
       "      <td>False</td>\n",
       "    </tr>\n",
       "  </tbody>\n",
       "</table>\n",
       "</div>"
      ],
      "text/plain": [
       "                               count  log2_count  cycle  control  replicate  \\\n",
       "filename_prefix                                                               \n",
       "20210331_Timecourse5EU_s10_NA    270    8.076816    8.0    False          0   \n",
       "20210331_Timecourse5EU_s11_NA   3773   11.881496   12.0    False          0   \n",
       "20210331_Timecourse5EU_s12_NA    541    9.079485    9.0    False          0   \n",
       "20210331_Timecourse5EU_s13_NA    126    6.977280    7.0    False          0   \n",
       "20210331_Timecourse5EU_s14_NA   4005   11.967587   12.0    False          0   \n",
       "\n",
       "                               turned  \n",
       "filename_prefix                        \n",
       "20210331_Timecourse5EU_s10_NA   False  \n",
       "20210331_Timecourse5EU_s11_NA   False  \n",
       "20210331_Timecourse5EU_s12_NA   False  \n",
       "20210331_Timecourse5EU_s13_NA   False  \n",
       "20210331_Timecourse5EU_s14_NA   False  "
      ]
     },
     "execution_count": 28,
     "metadata": {},
     "output_type": "execute_result"
    }
   ],
   "source": [
    "metadata.head()"
   ]
  },
  {
   "cell_type": "code",
   "execution_count": 8,
   "id": "3f195b32-b06f-443c-8485-5594c98f6bd6",
   "metadata": {},
   "outputs": [
    {
     "data": {
      "text/html": [
       "<div>\n",
       "<style scoped>\n",
       "    .dataframe tbody tr th:only-of-type {\n",
       "        vertical-align: middle;\n",
       "    }\n",
       "\n",
       "    .dataframe tbody tr th {\n",
       "        vertical-align: top;\n",
       "    }\n",
       "\n",
       "    .dataframe thead th {\n",
       "        text-align: right;\n",
       "    }\n",
       "</style>\n",
       "<table border=\"1\" class=\"dataframe\">\n",
       "  <thead>\n",
       "    <tr style=\"text-align: right;\">\n",
       "      <th></th>\n",
       "      <th></th>\n",
       "      <th>structure</th>\n",
       "      <th>PhysicalSize</th>\n",
       "      <th>Roundness</th>\n",
       "      <th>5-EU_0_Mean</th>\n",
       "      <th>5-EU_0_Skewness</th>\n",
       "      <th>SYTOX_0_Mean</th>\n",
       "      <th>SYTOX_0_Sum</th>\n",
       "    </tr>\n",
       "    <tr>\n",
       "      <th>filename_prefix</th>\n",
       "      <th>Label</th>\n",
       "      <th></th>\n",
       "      <th></th>\n",
       "      <th></th>\n",
       "      <th></th>\n",
       "      <th></th>\n",
       "      <th></th>\n",
       "      <th></th>\n",
       "    </tr>\n",
       "  </thead>\n",
       "  <tbody>\n",
       "    <tr>\n",
       "      <th rowspan=\"5\" valign=\"top\">20210331_Timecourse5EU_s10_NA</th>\n",
       "      <th>1</th>\n",
       "      <td>cells</td>\n",
       "      <td>54367.30</td>\n",
       "      <td>0.632657</td>\n",
       "      <td>72.697078</td>\n",
       "      <td>0.131292</td>\n",
       "      <td>15.179888</td>\n",
       "      <td>488337.0</td>\n",
       "    </tr>\n",
       "    <tr>\n",
       "      <th>3</th>\n",
       "      <td>cells</td>\n",
       "      <td>65142.74</td>\n",
       "      <td>0.593915</td>\n",
       "      <td>69.716832</td>\n",
       "      <td>0.272255</td>\n",
       "      <td>38.302029</td>\n",
       "      <td>1476390.0</td>\n",
       "    </tr>\n",
       "    <tr>\n",
       "      <th>4</th>\n",
       "      <td>cells</td>\n",
       "      <td>46130.24</td>\n",
       "      <td>0.700349</td>\n",
       "      <td>73.925593</td>\n",
       "      <td>0.592808</td>\n",
       "      <td>14.503077</td>\n",
       "      <td>395876.0</td>\n",
       "    </tr>\n",
       "    <tr>\n",
       "      <th>5</th>\n",
       "      <td>cells</td>\n",
       "      <td>56567.68</td>\n",
       "      <td>0.688103</td>\n",
       "      <td>70.302761</td>\n",
       "      <td>0.595058</td>\n",
       "      <td>32.896720</td>\n",
       "      <td>1101119.0</td>\n",
       "    </tr>\n",
       "    <tr>\n",
       "      <th>6</th>\n",
       "      <td>cells</td>\n",
       "      <td>56961.45</td>\n",
       "      <td>0.631558</td>\n",
       "      <td>73.151610</td>\n",
       "      <td>0.176252</td>\n",
       "      <td>37.839430</td>\n",
       "      <td>1275378.0</td>\n",
       "    </tr>\n",
       "  </tbody>\n",
       "</table>\n",
       "</div>"
      ],
      "text/plain": [
       "                                    structure  PhysicalSize  Roundness  \\\n",
       "filename_prefix               Label                                      \n",
       "20210331_Timecourse5EU_s10_NA 1         cells      54367.30   0.632657   \n",
       "                              3         cells      65142.74   0.593915   \n",
       "                              4         cells      46130.24   0.700349   \n",
       "                              5         cells      56567.68   0.688103   \n",
       "                              6         cells      56961.45   0.631558   \n",
       "\n",
       "                                     5-EU_0_Mean  5-EU_0_Skewness  \\\n",
       "filename_prefix               Label                                 \n",
       "20210331_Timecourse5EU_s10_NA 1        72.697078         0.131292   \n",
       "                              3        69.716832         0.272255   \n",
       "                              4        73.925593         0.592808   \n",
       "                              5        70.302761         0.595058   \n",
       "                              6        73.151610         0.176252   \n",
       "\n",
       "                                     SYTOX_0_Mean  SYTOX_0_Sum  \n",
       "filename_prefix               Label                             \n",
       "20210331_Timecourse5EU_s10_NA 1         15.179888     488337.0  \n",
       "                              3         38.302029    1476390.0  \n",
       "                              4         14.503077     395876.0  \n",
       "                              5         32.896720    1101119.0  \n",
       "                              6         37.839430    1275378.0  "
      ]
     },
     "execution_count": 8,
     "metadata": {},
     "output_type": "execute_result"
    }
   ],
   "source": [
    "features_all.head()"
   ]
  },
  {
   "cell_type": "markdown",
   "id": "f7081678-8adb-455d-bb89-cf0c9efa78eb",
   "metadata": {},
   "source": [
    "Lets split the `features_all` dataframe into more managable chunks containing only measurements for one type of object."
   ]
  },
  {
   "cell_type": "code",
   "execution_count": 17,
   "id": "4fcc45d4-99b4-46d0-a4f1-b0c44049c263",
   "metadata": {},
   "outputs": [],
   "source": [
    "features_nuclei = features_all[features_all['structure'] == 'nuclei']\n",
    "features_cells = features_all[features_all['structure'] == 'cells']\n",
    "features_cyto = features_all[features_all['structure'] == 'cyto']"
   ]
  },
  {
   "cell_type": "code",
   "execution_count": 18,
   "id": "6614b0cb-948d-4f15-b097-9cd2c17440da",
   "metadata": {},
   "outputs": [
    {
     "data": {
      "text/html": [
       "<div>\n",
       "<style scoped>\n",
       "    .dataframe tbody tr th:only-of-type {\n",
       "        vertical-align: middle;\n",
       "    }\n",
       "\n",
       "    .dataframe tbody tr th {\n",
       "        vertical-align: top;\n",
       "    }\n",
       "\n",
       "    .dataframe thead th {\n",
       "        text-align: right;\n",
       "    }\n",
       "</style>\n",
       "<table border=\"1\" class=\"dataframe\">\n",
       "  <thead>\n",
       "    <tr style=\"text-align: right;\">\n",
       "      <th></th>\n",
       "      <th></th>\n",
       "      <th>structure</th>\n",
       "      <th>PhysicalSize</th>\n",
       "      <th>Roundness</th>\n",
       "      <th>5-EU_0_Mean</th>\n",
       "      <th>5-EU_0_Skewness</th>\n",
       "      <th>SYTOX_0_Mean</th>\n",
       "      <th>SYTOX_0_Sum</th>\n",
       "    </tr>\n",
       "    <tr>\n",
       "      <th>filename_prefix</th>\n",
       "      <th>Label</th>\n",
       "      <th></th>\n",
       "      <th></th>\n",
       "      <th></th>\n",
       "      <th></th>\n",
       "      <th></th>\n",
       "      <th></th>\n",
       "      <th></th>\n",
       "    </tr>\n",
       "  </thead>\n",
       "  <tbody>\n",
       "    <tr>\n",
       "      <th rowspan=\"5\" valign=\"top\">20210331_Timecourse5EU_s10_NA</th>\n",
       "      <th>1</th>\n",
       "      <td>nuclei</td>\n",
       "      <td>618.54</td>\n",
       "      <td>0.904941</td>\n",
       "      <td>104.945355</td>\n",
       "      <td>0.536663</td>\n",
       "      <td>48.568306</td>\n",
       "      <td>17776.0</td>\n",
       "    </tr>\n",
       "    <tr>\n",
       "      <th>2</th>\n",
       "      <td>nuclei</td>\n",
       "      <td>135.20</td>\n",
       "      <td>0.773864</td>\n",
       "      <td>338.925000</td>\n",
       "      <td>0.308733</td>\n",
       "      <td>140.212500</td>\n",
       "      <td>11217.0</td>\n",
       "    </tr>\n",
       "    <tr>\n",
       "      <th>3</th>\n",
       "      <td>nuclei</td>\n",
       "      <td>1681.55</td>\n",
       "      <td>0.874230</td>\n",
       "      <td>114.313568</td>\n",
       "      <td>0.194324</td>\n",
       "      <td>106.777889</td>\n",
       "      <td>106244.0</td>\n",
       "    </tr>\n",
       "    <tr>\n",
       "      <th>4</th>\n",
       "      <td>nuclei</td>\n",
       "      <td>760.50</td>\n",
       "      <td>0.949932</td>\n",
       "      <td>96.137778</td>\n",
       "      <td>0.109924</td>\n",
       "      <td>47.006667</td>\n",
       "      <td>21153.0</td>\n",
       "    </tr>\n",
       "    <tr>\n",
       "      <th>5</th>\n",
       "      <td>nuclei</td>\n",
       "      <td>1372.28</td>\n",
       "      <td>0.928831</td>\n",
       "      <td>94.490148</td>\n",
       "      <td>-0.287066</td>\n",
       "      <td>107.344828</td>\n",
       "      <td>87164.0</td>\n",
       "    </tr>\n",
       "  </tbody>\n",
       "</table>\n",
       "</div>"
      ],
      "text/plain": [
       "                                    structure  PhysicalSize  Roundness  \\\n",
       "filename_prefix               Label                                      \n",
       "20210331_Timecourse5EU_s10_NA 1        nuclei        618.54   0.904941   \n",
       "                              2        nuclei        135.20   0.773864   \n",
       "                              3        nuclei       1681.55   0.874230   \n",
       "                              4        nuclei        760.50   0.949932   \n",
       "                              5        nuclei       1372.28   0.928831   \n",
       "\n",
       "                                     5-EU_0_Mean  5-EU_0_Skewness  \\\n",
       "filename_prefix               Label                                 \n",
       "20210331_Timecourse5EU_s10_NA 1       104.945355         0.536663   \n",
       "                              2       338.925000         0.308733   \n",
       "                              3       114.313568         0.194324   \n",
       "                              4        96.137778         0.109924   \n",
       "                              5        94.490148        -0.287066   \n",
       "\n",
       "                                     SYTOX_0_Mean  SYTOX_0_Sum  \n",
       "filename_prefix               Label                             \n",
       "20210331_Timecourse5EU_s10_NA 1         48.568306      17776.0  \n",
       "                              2        140.212500      11217.0  \n",
       "                              3        106.777889     106244.0  \n",
       "                              4         47.006667      21153.0  \n",
       "                              5        107.344828      87164.0  "
      ]
     },
     "execution_count": 18,
     "metadata": {},
     "output_type": "execute_result"
    }
   ],
   "source": [
    "features_nuclei.head()"
   ]
  },
  {
   "cell_type": "code",
   "execution_count": 19,
   "id": "991c69aa-19d7-4664-97ee-649962c46027",
   "metadata": {},
   "outputs": [
    {
     "data": {
      "text/html": [
       "<div>\n",
       "<style scoped>\n",
       "    .dataframe tbody tr th:only-of-type {\n",
       "        vertical-align: middle;\n",
       "    }\n",
       "\n",
       "    .dataframe tbody tr th {\n",
       "        vertical-align: top;\n",
       "    }\n",
       "\n",
       "    .dataframe thead th {\n",
       "        text-align: right;\n",
       "    }\n",
       "</style>\n",
       "<table border=\"1\" class=\"dataframe\">\n",
       "  <thead>\n",
       "    <tr style=\"text-align: right;\">\n",
       "      <th></th>\n",
       "      <th></th>\n",
       "      <th>structure</th>\n",
       "      <th>PhysicalSize</th>\n",
       "      <th>Roundness</th>\n",
       "      <th>5-EU_0_Mean</th>\n",
       "      <th>5-EU_0_Skewness</th>\n",
       "      <th>SYTOX_0_Mean</th>\n",
       "      <th>SYTOX_0_Sum</th>\n",
       "    </tr>\n",
       "    <tr>\n",
       "      <th>filename_prefix</th>\n",
       "      <th>Label</th>\n",
       "      <th></th>\n",
       "      <th></th>\n",
       "      <th></th>\n",
       "      <th></th>\n",
       "      <th></th>\n",
       "      <th></th>\n",
       "      <th></th>\n",
       "    </tr>\n",
       "  </thead>\n",
       "  <tbody>\n",
       "    <tr>\n",
       "      <th rowspan=\"5\" valign=\"top\">20210331_Timecourse5EU_s10_NA</th>\n",
       "      <th>1</th>\n",
       "      <td>cells</td>\n",
       "      <td>54367.30</td>\n",
       "      <td>0.632657</td>\n",
       "      <td>72.697078</td>\n",
       "      <td>0.131292</td>\n",
       "      <td>15.179888</td>\n",
       "      <td>488337.0</td>\n",
       "    </tr>\n",
       "    <tr>\n",
       "      <th>3</th>\n",
       "      <td>cells</td>\n",
       "      <td>65142.74</td>\n",
       "      <td>0.593915</td>\n",
       "      <td>69.716832</td>\n",
       "      <td>0.272255</td>\n",
       "      <td>38.302029</td>\n",
       "      <td>1476390.0</td>\n",
       "    </tr>\n",
       "    <tr>\n",
       "      <th>4</th>\n",
       "      <td>cells</td>\n",
       "      <td>46130.24</td>\n",
       "      <td>0.700349</td>\n",
       "      <td>73.925593</td>\n",
       "      <td>0.592808</td>\n",
       "      <td>14.503077</td>\n",
       "      <td>395876.0</td>\n",
       "    </tr>\n",
       "    <tr>\n",
       "      <th>5</th>\n",
       "      <td>cells</td>\n",
       "      <td>56567.68</td>\n",
       "      <td>0.688103</td>\n",
       "      <td>70.302761</td>\n",
       "      <td>0.595058</td>\n",
       "      <td>32.896720</td>\n",
       "      <td>1101119.0</td>\n",
       "    </tr>\n",
       "    <tr>\n",
       "      <th>6</th>\n",
       "      <td>cells</td>\n",
       "      <td>56961.45</td>\n",
       "      <td>0.631558</td>\n",
       "      <td>73.151610</td>\n",
       "      <td>0.176252</td>\n",
       "      <td>37.839430</td>\n",
       "      <td>1275378.0</td>\n",
       "    </tr>\n",
       "  </tbody>\n",
       "</table>\n",
       "</div>"
      ],
      "text/plain": [
       "                                    structure  PhysicalSize  Roundness  \\\n",
       "filename_prefix               Label                                      \n",
       "20210331_Timecourse5EU_s10_NA 1         cells      54367.30   0.632657   \n",
       "                              3         cells      65142.74   0.593915   \n",
       "                              4         cells      46130.24   0.700349   \n",
       "                              5         cells      56567.68   0.688103   \n",
       "                              6         cells      56961.45   0.631558   \n",
       "\n",
       "                                     5-EU_0_Mean  5-EU_0_Skewness  \\\n",
       "filename_prefix               Label                                 \n",
       "20210331_Timecourse5EU_s10_NA 1        72.697078         0.131292   \n",
       "                              3        69.716832         0.272255   \n",
       "                              4        73.925593         0.592808   \n",
       "                              5        70.302761         0.595058   \n",
       "                              6        73.151610         0.176252   \n",
       "\n",
       "                                     SYTOX_0_Mean  SYTOX_0_Sum  \n",
       "filename_prefix               Label                             \n",
       "20210331_Timecourse5EU_s10_NA 1         15.179888     488337.0  \n",
       "                              3         38.302029    1476390.0  \n",
       "                              4         14.503077     395876.0  \n",
       "                              5         32.896720    1101119.0  \n",
       "                              6         37.839430    1275378.0  "
      ]
     },
     "execution_count": 19,
     "metadata": {},
     "output_type": "execute_result"
    }
   ],
   "source": [
    "features_cells.head()"
   ]
  },
  {
   "cell_type": "code",
   "execution_count": 20,
   "id": "db7014e4-fbc6-4b2d-99bf-967e5cd471e1",
   "metadata": {},
   "outputs": [
    {
     "data": {
      "text/html": [
       "<div>\n",
       "<style scoped>\n",
       "    .dataframe tbody tr th:only-of-type {\n",
       "        vertical-align: middle;\n",
       "    }\n",
       "\n",
       "    .dataframe tbody tr th {\n",
       "        vertical-align: top;\n",
       "    }\n",
       "\n",
       "    .dataframe thead th {\n",
       "        text-align: right;\n",
       "    }\n",
       "</style>\n",
       "<table border=\"1\" class=\"dataframe\">\n",
       "  <thead>\n",
       "    <tr style=\"text-align: right;\">\n",
       "      <th></th>\n",
       "      <th></th>\n",
       "      <th>structure</th>\n",
       "      <th>PhysicalSize</th>\n",
       "      <th>Roundness</th>\n",
       "      <th>5-EU_0_Mean</th>\n",
       "      <th>5-EU_0_Skewness</th>\n",
       "      <th>SYTOX_0_Mean</th>\n",
       "      <th>SYTOX_0_Sum</th>\n",
       "    </tr>\n",
       "    <tr>\n",
       "      <th>filename_prefix</th>\n",
       "      <th>Label</th>\n",
       "      <th></th>\n",
       "      <th></th>\n",
       "      <th></th>\n",
       "      <th></th>\n",
       "      <th></th>\n",
       "      <th></th>\n",
       "      <th></th>\n",
       "    </tr>\n",
       "  </thead>\n",
       "  <tbody>\n",
       "    <tr>\n",
       "      <th rowspan=\"5\" valign=\"top\">20210331_Timecourse5EU_s10_NA</th>\n",
       "      <th>1</th>\n",
       "      <td>cyto</td>\n",
       "      <td>44969.21</td>\n",
       "      <td>0.654867</td>\n",
       "      <td>75.133601</td>\n",
       "      <td>0.252433</td>\n",
       "      <td>14.991507</td>\n",
       "      <td>398909.0</td>\n",
       "    </tr>\n",
       "    <tr>\n",
       "      <th>3</th>\n",
       "      <td>cyto</td>\n",
       "      <td>52200.72</td>\n",
       "      <td>0.582992</td>\n",
       "      <td>71.743363</td>\n",
       "      <td>0.277718</td>\n",
       "      <td>37.181138</td>\n",
       "      <td>1148451.0</td>\n",
       "    </tr>\n",
       "    <tr>\n",
       "      <th>4</th>\n",
       "      <td>cyto</td>\n",
       "      <td>38160.20</td>\n",
       "      <td>0.675534</td>\n",
       "      <td>75.544686</td>\n",
       "      <td>0.742293</td>\n",
       "      <td>14.146590</td>\n",
       "      <td>319430.0</td>\n",
       "    </tr>\n",
       "    <tr>\n",
       "      <th>5</th>\n",
       "      <td>cyto</td>\n",
       "      <td>46199.53</td>\n",
       "      <td>0.655816</td>\n",
       "      <td>71.659802</td>\n",
       "      <td>0.960050</td>\n",
       "      <td>31.474741</td>\n",
       "      <td>860425.0</td>\n",
       "    </tr>\n",
       "    <tr>\n",
       "      <th>6</th>\n",
       "      <td>cyto</td>\n",
       "      <td>45033.43</td>\n",
       "      <td>0.604819</td>\n",
       "      <td>74.401546</td>\n",
       "      <td>0.308974</td>\n",
       "      <td>36.537847</td>\n",
       "      <td>973624.0</td>\n",
       "    </tr>\n",
       "  </tbody>\n",
       "</table>\n",
       "</div>"
      ],
      "text/plain": [
       "                                    structure  PhysicalSize  Roundness  \\\n",
       "filename_prefix               Label                                      \n",
       "20210331_Timecourse5EU_s10_NA 1          cyto      44969.21   0.654867   \n",
       "                              3          cyto      52200.72   0.582992   \n",
       "                              4          cyto      38160.20   0.675534   \n",
       "                              5          cyto      46199.53   0.655816   \n",
       "                              6          cyto      45033.43   0.604819   \n",
       "\n",
       "                                     5-EU_0_Mean  5-EU_0_Skewness  \\\n",
       "filename_prefix               Label                                 \n",
       "20210331_Timecourse5EU_s10_NA 1        75.133601         0.252433   \n",
       "                              3        71.743363         0.277718   \n",
       "                              4        75.544686         0.742293   \n",
       "                              5        71.659802         0.960050   \n",
       "                              6        74.401546         0.308974   \n",
       "\n",
       "                                     SYTOX_0_Mean  SYTOX_0_Sum  \n",
       "filename_prefix               Label                             \n",
       "20210331_Timecourse5EU_s10_NA 1         14.991507     398909.0  \n",
       "                              3         37.181138    1148451.0  \n",
       "                              4         14.146590     319430.0  \n",
       "                              5         31.474741     860425.0  \n",
       "                              6         36.537847     973624.0  "
      ]
     },
     "execution_count": 20,
     "metadata": {},
     "output_type": "execute_result"
    }
   ],
   "source": [
    "features_cyto.head()"
   ]
  },
  {
   "cell_type": "code",
   "execution_count": 24,
   "id": "0af36486-c7b1-4beb-ae46-d9e35c761bc8",
   "metadata": {},
   "outputs": [
    {
     "name": "stdout",
     "output_type": "stream",
     "text": [
      "54367.3\n",
      "618.5400000000001\n",
      "44969.21000000001\n"
     ]
    }
   ],
   "source": [
    "# Test the data shortly\n",
    "print(features_cells['PhysicalSize'][0])\n",
    "print(features_nuclei['PhysicalSize'][0])\n",
    "print(features_cyto['PhysicalSize'][0])\n",
    "# PhysicalSize contains of whole cells entails more than just nuclei and cytoplasm (maybe membranes? idk)"
   ]
  },
  {
   "cell_type": "markdown",
   "id": "f4b8dd3a-3d8a-43b1-b5a9-f5408eb9467a",
   "metadata": {},
   "source": [
    "## Using cell count to stage the embryos\n",
    "We can sort the embryos by cellcount and use the cellcount as a proxy for the age of the emrbyo."
   ]
  },
  {
   "cell_type": "code",
   "execution_count": 7,
   "id": "2b1b40c0-6618-43c3-989a-d18450a3252e",
   "metadata": {},
   "outputs": [
    {
     "data": {
      "image/png": "[encoded data removed]",
      "text/plain": [
       "<Figure size 432x288 with 1 Axes>"
      ]
     },
     "metadata": {
      "needs_background": "light"
     },
     "output_type": "display_data"
    }
   ],
   "source": [
    "to_plot = metadata.sort_values(by='count').reset_index()\n",
    "\n",
    "ax = sns.scatterplot(x=to_plot['filename_prefix'], y=to_plot['count'])\n",
    "ax = sns.lineplot(x=to_plot['filename_prefix'], y=to_plot['count'])\n",
    "\n",
    "plt.xticks()\n",
    "ax.set_xticklabels([])\n",
    "plt.show()"
   ]
  },
  {
   "cell_type": "markdown",
   "id": "fb355df2-f142-41b8-bfef-c8af526d13a7",
   "metadata": {
    "tags": []
   },
   "source": [
    "#### Exercise 1:\n",
    "Use the `metadata` dataframe, sort the embryos by `log2_count` and make a plot showing the sorted embryo index on the x-axis and the log2_count on the y-axis.  \n",
    "*Extra credit: Visualize the replicate and embryo was from and wheter it's a control embryo or not in the same plot.*"
   ]
  },
  {
   "cell_type": "code",
   "execution_count": 41,
   "id": "de558c51-9b70-45a4-8d55-1bac377a0976",
   "metadata": {},
   "outputs": [
    {
     "data": {
      "image/png": "[encoded data removed]",
      "text/plain": [
       "<Figure size 432x288 with 1 Axes>"
      ]
     },
     "metadata": {
      "needs_background": "light"
     },
     "output_type": "display_data"
    },
    {
     "name": "stdout",
     "output_type": "stream",
     "text": [
      "                               count  log2_count  cycle  control  replicate  \\\n",
      "filename_prefix                                                               \n",
      "20210331_Timecourse5EU_s10_NA    270    8.076816    8.0    False          0   \n",
      "20210331_Timecourse5EU_s11_NA   3773   11.881496   12.0    False          0   \n",
      "20210331_Timecourse5EU_s12_NA    541    9.079485    9.0    False          0   \n",
      "20210331_Timecourse5EU_s13_NA    126    6.977280    7.0    False          0   \n",
      "20210331_Timecourse5EU_s14_NA   4005   11.967587   12.0    False          0   \n",
      "20210331_Timecourse5EU_s15_NA   3089   11.592924   12.0    False          0   \n",
      "20210331_Timecourse5EU_s16_NA    529    9.047124    9.0    False          0   \n",
      "20210331_Timecourse5EU_s17_NA   1020    9.994353   10.0    False          0   \n",
      "20210331_Timecourse5EU_s18_NA    151    7.238405    7.0    False          0   \n",
      "20210331_Timecourse5EU_s19_NA   3323   11.698271   12.0    False          0   \n",
      "20210331_Timecourse5EU_s20_NA    270    8.076816    8.0    False          0   \n",
      "20210331_Timecourse5EU_s21_NA     63    5.977280    6.0    False          0   \n",
      "20210331_Timecourse5EU_s22_NA     65    6.022368    6.0    False          0   \n",
      "20210331_Timecourse5EU_s23_NA    517    9.014020    9.0    False          0   \n",
      "20210331_Timecourse5EU_s24_NA     70    6.129283    6.0    False          0   \n",
      "20210331_Timecourse5EU_s25_NA    264    8.044394    8.0    False          0   \n",
      "20210331_Timecourse5EU_s2_NA    2019   10.979425   11.0    False          0   \n",
      "20210331_Timecourse5EU_s3_NA    1002    9.968667   10.0    False          0   \n",
      "20210331_Timecourse5EU_s4_NA      65    6.022368    6.0    False          0   \n",
      "20210331_Timecourse5EU_s5_NA     127    6.988685    7.0    False          0   \n",
      "20210331_Timecourse5EU_s6_NA     389    8.603626    9.0    False          0   \n",
      "20210331_Timecourse5EU_s7_NA    3932   11.941048   12.0    False          0   \n",
      "20210331_Timecourse5EU_s8_NA    1010    9.980140   10.0    False          0   \n",
      "20210331_Timecourse5EU_s9_NA     515    9.008429    9.0    False          0   \n",
      "20210416_Timecourse5EU_s10_NA   1417   10.468624   10.0    False          1   \n",
      "20210416_Timecourse5EU_s11_NA   2476   11.273796   11.0    False          1   \n",
      "20210416_Timecourse5EU_s12_NA    106    6.727920    7.0    False          1   \n",
      "20210416_Timecourse5EU_s13_NA   4117   12.007378   12.0    False          1   \n",
      "20210416_Timecourse5EU_s14_NA     68    6.087463    6.0    False          1   \n",
      "20210416_Timecourse5EU_s15_NA    538    9.071462    9.0    False          1   \n",
      "20210416_Timecourse5EU_s16_NA   3131   11.612408   12.0    False          1   \n",
      "20210416_Timecourse5EU_s17_NA    282    8.139551    8.0    False          1   \n",
      "20210416_Timecourse5EU_s18_NA    260    8.022368    8.0    False          1   \n",
      "20210416_Timecourse5EU_s1_NA     261    8.027906    8.0     True          1   \n",
      "20210416_Timecourse5EU_s2_NA    3354   11.711667   12.0     True          1   \n",
      "20210416_Timecourse5EU_s3_NA    2406   11.232421   11.0     True          1   \n",
      "20210416_Timecourse5EU_s4_NA     459    8.842350    9.0     True          1   \n",
      "20210416_Timecourse5EU_s5_NA    1124   10.134426   10.0    False          1   \n",
      "20210416_Timecourse5EU_s6_NA    1025   10.001408   10.0    False          1   \n",
      "20210416_Timecourse5EU_s7_NA     223    7.800900    8.0    False          1   \n",
      "20210416_Timecourse5EU_s8_NA    3893   11.926667   12.0    False          1   \n",
      "20210416_Timecourse5EU_s9_NA     556    9.118941    9.0    False          1   \n",
      "\n",
      "                               turned  \n",
      "filename_prefix                        \n",
      "20210331_Timecourse5EU_s10_NA   False  \n",
      "20210331_Timecourse5EU_s11_NA   False  \n",
      "20210331_Timecourse5EU_s12_NA   False  \n",
      "20210331_Timecourse5EU_s13_NA   False  \n",
      "20210331_Timecourse5EU_s14_NA   False  \n",
      "20210331_Timecourse5EU_s15_NA   False  \n",
      "20210331_Timecourse5EU_s16_NA   False  \n",
      "20210331_Timecourse5EU_s17_NA   False  \n",
      "20210331_Timecourse5EU_s18_NA   False  \n",
      "20210331_Timecourse5EU_s19_NA   False  \n",
      "20210331_Timecourse5EU_s20_NA   False  \n",
      "20210331_Timecourse5EU_s21_NA   False  \n",
      "20210331_Timecourse5EU_s22_NA   False  \n",
      "20210331_Timecourse5EU_s23_NA   False  \n",
      "20210331_Timecourse5EU_s24_NA   False  \n",
      "20210331_Timecourse5EU_s25_NA   False  \n",
      "20210331_Timecourse5EU_s2_NA    False  \n",
      "20210331_Timecourse5EU_s3_NA    False  \n",
      "20210331_Timecourse5EU_s4_NA    False  \n",
      "20210331_Timecourse5EU_s5_NA    False  \n",
      "20210331_Timecourse5EU_s6_NA    False  \n",
      "20210331_Timecourse5EU_s7_NA    False  \n",
      "20210331_Timecourse5EU_s8_NA    False  \n",
      "20210331_Timecourse5EU_s9_NA    False  \n",
      "20210416_Timecourse5EU_s10_NA    True  \n",
      "20210416_Timecourse5EU_s11_NA   False  \n",
      "20210416_Timecourse5EU_s12_NA   False  \n",
      "20210416_Timecourse5EU_s13_NA   False  \n",
      "20210416_Timecourse5EU_s14_NA   False  \n",
      "20210416_Timecourse5EU_s15_NA   False  \n",
      "20210416_Timecourse5EU_s16_NA   False  \n",
      "20210416_Timecourse5EU_s17_NA   False  \n",
      "20210416_Timecourse5EU_s18_NA   False  \n",
      "20210416_Timecourse5EU_s1_NA    False  \n",
      "20210416_Timecourse5EU_s2_NA    False  \n",
      "20210416_Timecourse5EU_s3_NA    False  \n",
      "20210416_Timecourse5EU_s4_NA    False  \n",
      "20210416_Timecourse5EU_s5_NA    False  \n",
      "20210416_Timecourse5EU_s6_NA    False  \n",
      "20210416_Timecourse5EU_s7_NA    False  \n",
      "20210416_Timecourse5EU_s8_NA    False  \n",
      "20210416_Timecourse5EU_s9_NA    False  \n"
     ]
    },
    {
     "data": {
      "image/png": "[encoded data removed]",
      "text/plain": [
       "<Figure size 432x288 with 1 Axes>"
      ]
     },
     "metadata": {
      "needs_background": "light"
     },
     "output_type": "display_data"
    }
   ],
   "source": [
    "# your code here\n",
    "to_plot1 = metadata.sort_values(by='log2_count').reset_index()\n",
    "\n",
    "ax = sns.scatterplot(x=to_plot1['filename_prefix'], y=to_plot1['log2_count'])\n",
    "ax = sns.lineplot(x=to_plot1['filename_prefix'], y=to_plot1['log2_count'])\n",
    "\n",
    "plt.xticks()\n",
    "ax.set_xticklabels([])\n",
    "plt.show()\n",
    "\n",
    "# extra:\n",
    "print(metadata)\n",
    "# research seaborn package for plotting colors\n",
    "to_plot1_1 = to_plot1[to_plot1['replicate'] == 1]\n",
    "to_plot1_0 = to_plot1[to_plot1['replicate'] == 0]\n",
    "\n",
    "ax = sns.scatterplot(x=to_plot1_0['filename_prefix'], y=to_plot1_0['log2_count'])\n",
    "ax = sns.scatterplot(x=to_plot1_1['filename_prefix'], y=to_plot1_1['log2_count'])\n",
    "ax = sns.lineplot(x=to_plot1_0['filename_prefix'], y=to_plot1_0['log2_count'])\n",
    "ax = sns.lineplot(x=to_plot1_1['filename_prefix'], y=to_plot1_1['log2_count'])\n",
    "\n",
    "plt.xticks()\n",
    "ax.set_xticklabels([])\n",
    "plt.show()\n",
    "\n",
    "# well, okay then - later"
   ]
  },
  {
   "cell_type": "markdown",
   "id": "3156ddfd-f15f-48c5-900d-933cdf7c9400",
   "metadata": {
    "tags": []
   },
   "source": [
    "## Aggregating measurements on the embryo level\n",
    "Using `groupby` we can aggregate single cell measurements for the individual embryos. Read the [documentation](https://pandas.pydata.org/docs/reference/api/pandas.DataFrame.groupby.html) to understand what groupby is doing and see some examples.  \n",
    "Using `merge` we can combine two dataframes on a common column (or index). Again, the [documentation](https://pandas.pydata.org/docs/reference/api/pandas.DataFrame.merge.html) is your friend.  "
   ]
  },
  {
   "cell_type": "markdown",
   "id": "4579ba7b-de74-4aa7-a49b-2f3a1f7b9b2e",
   "metadata": {},
   "source": [
    "With those two operations we can start making interesting plots from our measurements. Say we're interested in how the nuclear volume changes over time:"
   ]
  },
  {
   "cell_type": "code",
   "execution_count": 9,
   "id": "7c9b2aea-4255-4c29-a36f-c3cb2d7a4872",
   "metadata": {},
   "outputs": [
    {
     "data": {
      "text/html": [
       "<div>\n",
       "<style scoped>\n",
       "    .dataframe tbody tr th:only-of-type {\n",
       "        vertical-align: middle;\n",
       "    }\n",
       "\n",
       "    .dataframe tbody tr th {\n",
       "        vertical-align: top;\n",
       "    }\n",
       "\n",
       "    .dataframe thead th {\n",
       "        text-align: right;\n",
       "    }\n",
       "</style>\n",
       "<table border=\"1\" class=\"dataframe\">\n",
       "  <thead>\n",
       "    <tr style=\"text-align: right;\">\n",
       "      <th></th>\n",
       "      <th>PhysicalSize</th>\n",
       "    </tr>\n",
       "    <tr>\n",
       "      <th>filename_prefix</th>\n",
       "      <th></th>\n",
       "    </tr>\n",
       "  </thead>\n",
       "  <tbody>\n",
       "    <tr>\n",
       "      <th>20210331_Timecourse5EU_s10_NA</th>\n",
       "      <td>1922.349963</td>\n",
       "    </tr>\n",
       "    <tr>\n",
       "      <th>20210331_Timecourse5EU_s11_NA</th>\n",
       "      <td>1250.188810</td>\n",
       "    </tr>\n",
       "    <tr>\n",
       "      <th>20210331_Timecourse5EU_s12_NA</th>\n",
       "      <td>2074.676488</td>\n",
       "    </tr>\n",
       "    <tr>\n",
       "      <th>20210331_Timecourse5EU_s13_NA</th>\n",
       "      <td>2229.834286</td>\n",
       "    </tr>\n",
       "    <tr>\n",
       "      <th>20210331_Timecourse5EU_s14_NA</th>\n",
       "      <td>880.682841</td>\n",
       "    </tr>\n",
       "  </tbody>\n",
       "</table>\n",
       "</div>"
      ],
      "text/plain": [
       "                               PhysicalSize\n",
       "filename_prefix                            \n",
       "20210331_Timecourse5EU_s10_NA   1922.349963\n",
       "20210331_Timecourse5EU_s11_NA   1250.188810\n",
       "20210331_Timecourse5EU_s12_NA   2074.676488\n",
       "20210331_Timecourse5EU_s13_NA   2229.834286\n",
       "20210331_Timecourse5EU_s14_NA    880.682841"
      ]
     },
     "execution_count": 9,
     "metadata": {},
     "output_type": "execute_result"
    }
   ],
   "source": [
    "mean_nuclear_size_per_embryo = features_nuclei[['PhysicalSize']].groupby('filename_prefix').mean()\n",
    "mean_nuclear_size_per_embryo.head()"
   ]
  },
  {
   "cell_type": "markdown",
   "id": "f9e6a20d-7b93-4165-b9ab-b42a38870aa6",
   "metadata": {},
   "source": [
    "Merging with the metadata dataframe on the `filename_prefix` allows us to plot cellcount vs. mean nuclear size."
   ]
  },
  {
   "cell_type": "code",
   "execution_count": 10,
   "id": "12f2306b-1b5f-4923-b87f-334b7f02b386",
   "metadata": {},
   "outputs": [
    {
     "data": {
      "text/html": [
       "<div>\n",
       "<style scoped>\n",
       "    .dataframe tbody tr th:only-of-type {\n",
       "        vertical-align: middle;\n",
       "    }\n",
       "\n",
       "    .dataframe tbody tr th {\n",
       "        vertical-align: top;\n",
       "    }\n",
       "\n",
       "    .dataframe thead th {\n",
       "        text-align: right;\n",
       "    }\n",
       "</style>\n",
       "<table border=\"1\" class=\"dataframe\">\n",
       "  <thead>\n",
       "    <tr style=\"text-align: right;\">\n",
       "      <th></th>\n",
       "      <th>PhysicalSize</th>\n",
       "      <th>count</th>\n",
       "      <th>log2_count</th>\n",
       "      <th>cycle</th>\n",
       "      <th>control</th>\n",
       "      <th>replicate</th>\n",
       "      <th>turned</th>\n",
       "    </tr>\n",
       "    <tr>\n",
       "      <th>filename_prefix</th>\n",
       "      <th></th>\n",
       "      <th></th>\n",
       "      <th></th>\n",
       "      <th></th>\n",
       "      <th></th>\n",
       "      <th></th>\n",
       "      <th></th>\n",
       "    </tr>\n",
       "  </thead>\n",
       "  <tbody>\n",
       "    <tr>\n",
       "      <th>20210331_Timecourse5EU_s10_NA</th>\n",
       "      <td>1922.349963</td>\n",
       "      <td>270</td>\n",
       "      <td>8.076816</td>\n",
       "      <td>8.0</td>\n",
       "      <td>False</td>\n",
       "      <td>0</td>\n",
       "      <td>False</td>\n",
       "    </tr>\n",
       "    <tr>\n",
       "      <th>20210331_Timecourse5EU_s11_NA</th>\n",
       "      <td>1250.188810</td>\n",
       "      <td>3773</td>\n",
       "      <td>11.881496</td>\n",
       "      <td>12.0</td>\n",
       "      <td>False</td>\n",
       "      <td>0</td>\n",
       "      <td>False</td>\n",
       "    </tr>\n",
       "    <tr>\n",
       "      <th>20210331_Timecourse5EU_s12_NA</th>\n",
       "      <td>2074.676488</td>\n",
       "      <td>541</td>\n",
       "      <td>9.079485</td>\n",
       "      <td>9.0</td>\n",
       "      <td>False</td>\n",
       "      <td>0</td>\n",
       "      <td>False</td>\n",
       "    </tr>\n",
       "    <tr>\n",
       "      <th>20210331_Timecourse5EU_s13_NA</th>\n",
       "      <td>2229.834286</td>\n",
       "      <td>126</td>\n",
       "      <td>6.977280</td>\n",
       "      <td>7.0</td>\n",
       "      <td>False</td>\n",
       "      <td>0</td>\n",
       "      <td>False</td>\n",
       "    </tr>\n",
       "    <tr>\n",
       "      <th>20210331_Timecourse5EU_s14_NA</th>\n",
       "      <td>880.682841</td>\n",
       "      <td>4005</td>\n",
       "      <td>11.967587</td>\n",
       "      <td>12.0</td>\n",
       "      <td>False</td>\n",
       "      <td>0</td>\n",
       "      <td>False</td>\n",
       "    </tr>\n",
       "  </tbody>\n",
       "</table>\n",
       "</div>"
      ],
      "text/plain": [
       "                               PhysicalSize  count  log2_count  cycle  \\\n",
       "filename_prefix                                                         \n",
       "20210331_Timecourse5EU_s10_NA   1922.349963    270    8.076816    8.0   \n",
       "20210331_Timecourse5EU_s11_NA   1250.188810   3773   11.881496   12.0   \n",
       "20210331_Timecourse5EU_s12_NA   2074.676488    541    9.079485    9.0   \n",
       "20210331_Timecourse5EU_s13_NA   2229.834286    126    6.977280    7.0   \n",
       "20210331_Timecourse5EU_s14_NA    880.682841   4005   11.967587   12.0   \n",
       "\n",
       "                               control  replicate  turned  \n",
       "filename_prefix                                            \n",
       "20210331_Timecourse5EU_s10_NA    False          0   False  \n",
       "20210331_Timecourse5EU_s11_NA    False          0   False  \n",
       "20210331_Timecourse5EU_s12_NA    False          0   False  \n",
       "20210331_Timecourse5EU_s13_NA    False          0   False  \n",
       "20210331_Timecourse5EU_s14_NA    False          0   False  "
      ]
     },
     "execution_count": 10,
     "metadata": {},
     "output_type": "execute_result"
    }
   ],
   "source": [
    "to_plot = mean_nuclear_size_per_embryo.merge(metadata, left_index=True, right_index=True)\n",
    "to_plot.head()"
   ]
  },
  {
   "cell_type": "code",
   "execution_count": 11,
   "id": "577e7668-7a82-4b58-99d2-30f6a574ecaf",
   "metadata": {},
   "outputs": [
    {
     "data": {
      "image/png": "[encoded data removed]",
      "text/plain": [
       "<Figure size 432x288 with 1 Axes>"
      ]
     },
     "metadata": {
      "needs_background": "light"
     },
     "output_type": "display_data"
    }
   ],
   "source": [
    "ax = sns.scatterplot(x=to_plot['log2_count'], y=to_plot['PhysicalSize'], style=to_plot['replicate'], legend=False, label='cells')\n",
    "ax.set_yscale('log') #This is how one can set an axis scale to logarighmic"
   ]
  },
  {
   "cell_type": "markdown",
   "id": "ce974e6b-adf7-454d-aba0-3072d6ec03da",
   "metadata": {},
   "source": [
    "### Exercise 2:\n",
    "Plot both nuclear and cellular volume against log2 cell count.  \n",
    "*Extra credit: Plot both on the same axis.*"
   ]
  },
  {
   "cell_type": "code",
   "execution_count": 12,
   "id": "acee6553-2080-4639-8309-4965e3191b2a",
   "metadata": {},
   "outputs": [],
   "source": [
    "# your code here"
   ]
  },
  {
   "cell_type": "markdown",
   "id": "df8c09d8-e4d9-439d-ac33-bc019945308d",
   "metadata": {},
   "source": [
    "### Exercise 3:\n",
    "A hypothesis in the field is that cells start to get transcriptionally active at a certain nuclear to cytoplasmic ratio. Make a plot showing how the mean nuclear to cytoplasmic ratio changes over time.  \n",
    "**Hint:** You need to calculate the nuclear to cytoplasmic ratio from the `PhysicalSize` of the cytoplasm and nucleus."
   ]
  },
  {
   "cell_type": "code",
   "execution_count": 13,
   "id": "e88b4ca2-873d-4fd7-bac1-4a6005a5e208",
   "metadata": {},
   "outputs": [],
   "source": [
    "# your code here"
   ]
  },
  {
   "cell_type": "markdown",
   "id": "bc00285b-f52b-49fa-9658-cec8da9fa31c",
   "metadata": {},
   "source": [
    "Let's look at how mean nuclear 5-EU (our measure for zygotic transcription) signal changes over time. "
   ]
  },
  {
   "cell_type": "code",
   "execution_count": 14,
   "id": "3757e920-eb00-4d42-9882-f905a5fcf0e8",
   "metadata": {},
   "outputs": [
    {
     "data": {
      "image/png": "[encoded data removed]",
      "text/plain": [
       "<Figure size 432x288 with 1 Axes>"
      ]
     },
     "metadata": {
      "needs_background": "light"
     },
     "output_type": "display_data"
    }
   ],
   "source": [
    "to_plot = features_all.reset_index().set_index('filename_prefix').merge(metadata, left_index=True, right_index=True)\n",
    "\n",
    "ax.tick_params(which='both', direction='in')\n",
    "\n",
    "means = to_plot[['structure', '5-EU_0_Mean']].groupby(['filename_prefix', 'structure']).mean().unstack('structure')\n",
    "means.columns = ['_'.join(k) for k in means.columns]\n",
    "means = means.merge(metadata, left_index=True, right_index=True)\n",
    "\n",
    "ax = sns.scatterplot(data=means, x='log2_count', y='5-EU_0_Mean_nuclei', hue='control', style='replicate')\n",
    "plt.setp(ax.lines, zorder=100)\n",
    "plt.setp(ax.collections, zorder=100)\n",
    "\n",
    "plt.ylabel('Mean Nuclear 5-EU intensity')\n",
    "plt.xlabel('$log_2$(cell count)')\n",
    "plt.legend(loc=9)\n",
    "plt.title('Mean Nuclear 5-EU intensity')\n",
    "plt.grid(linestyle='--')"
   ]
  },
  {
   "cell_type": "markdown",
   "id": "d047b139-3bd9-4ab1-89ab-8cc6e787a13d",
   "metadata": {},
   "source": [
    "We can see that using the nuclear 5-EU intensity as a measure for transcriptional output is very noisy. There seem to be some early embryos that have rather high 5-EU signal. If we take a look at the images of early stage embryos we can see that our measurements are heavily biased by stong background signal stemming from the yolk of the embryo. To get to a more robust quantification of transctiptional output we can try normalizing the signal by dividing mean nuclear 5-EU signal by cytoplasmic 5-EU signal."
   ]
  },
  {
   "cell_type": "markdown",
   "id": "21fc7bbf-1ee2-4603-9b07-22ec868457be",
   "metadata": {
    "tags": []
   },
   "source": [
    "### Exercise 4:\n",
    "Create a more robust measure of transcriptional output by dividing nuclear / cytoplasmic 5-EU signal. Show how this more robust quantification changes over time.  \n",
    "*Extra credit: Can you come up with an alternative way of normalizing the nuclear 5-EU signal? Make a plot.*"
   ]
  },
  {
   "cell_type": "code",
   "execution_count": 15,
   "id": "d9a3f708-ab41-4c6b-82fa-258a175580c1",
   "metadata": {},
   "outputs": [],
   "source": [
    "# your code here"
   ]
  },
  {
   "cell_type": "code",
   "execution_count": 16,
   "id": "35838ae6-ece2-4f59-836a-f84d619cb756",
   "metadata": {},
   "outputs": [],
   "source": [
    "# your code here"
   ]
  },
  {
   "cell_type": "markdown",
   "id": "b98bbded-b0b6-483b-9767-3a3d58915125",
   "metadata": {
    "tags": []
   },
   "source": [
    "## Plotting single cell measurements\n",
    "Up to this point we always averaged over whole embryos. In the final part of the analysis we would like to look at transcriptional activity on the single cell level. We can make the same plot from Exercise 4 withouth averaging over embryos but actually plotting the single cell measurements. For this part of the exercise we will only use the embryos from the second replicate."
   ]
  },
  {
   "cell_type": "code",
   "execution_count": 17,
   "id": "e9606865-2a53-450f-8d58-e427f2721392",
   "metadata": {},
   "outputs": [],
   "source": [
    "to_plot = pd.DataFrame()\n",
    "to_plot['5-EU_0_Mean_nuc/cyto'] = features_nuclei[['5-EU_0_Mean']] / features_cyto[['5-EU_0_Mean']]\n",
    "to_plot['Vnuc/Vcyto'] = features_nuclei['PhysicalSize'] / features_cyto['PhysicalSize']\n",
    "to_plot['5-EU_0_Skewness'] = features_nuclei['5-EU_0_Skewness']\n",
    "to_plot = to_plot.merge(metadata, left_index=True, right_index=True)\n",
    "to_plot = to_plot[to_plot.replicate==1]\n",
    "to_plot = to_plot[to_plot.control==False]\n",
    "to_plot = to_plot.merge(features_cells[['PhysicalSize']], left_index=True, right_index=True)\n",
    "to_plot['log_PhysicalSize'] = np.log(to_plot['PhysicalSize'])\n",
    "to_plot = to_plot.reset_index()[['log_PhysicalSize', '5-EU_0_Mean_nuc/cyto', 'Vnuc/Vcyto', '5-EU_0_Skewness', 'cycle', 'log2_count', 'filename_prefix', 'PhysicalSize']]\n",
    "to_plot['filename_prefix'] = to_plot['filename_prefix'].astype('category')\n",
    "to_plot['cycle'] = to_plot['cycle'].astype('category')"
   ]
  },
  {
   "cell_type": "code",
   "execution_count": 18,
   "id": "899bd7a4-d348-4538-9a46-908a64b89612",
   "metadata": {},
   "outputs": [
    {
     "data": {
      "text/plain": [
       "Text(0.5, 1.0, 'Single cell nuclear 5-EU intensity vs volume')"
      ]
     },
     "execution_count": 18,
     "metadata": {},
     "output_type": "execute_result"
    },
    {
     "data": {
      "image/png": "[encoded data removed]",
      "text/plain": [
       "<Figure size 432x288 with 1 Axes>"
      ]
     },
     "metadata": {
      "needs_background": "light"
     },
     "output_type": "display_data"
    }
   ],
   "source": [
    "sns.scatterplot(x=to_plot['log2_count'], y=to_plot['5-EU_0_Mean_nuc/cyto'], hue=to_plot['cycle'], s=3, alpha=0.5)\n",
    "ax.set_xscale('log')\n",
    "ax.tick_params(which='both', direction='in')\n",
    "\n",
    "plt.grid(linestyle='--')\n",
    "# plt.xlim(1e3, 1e6)\n",
    "plt.ylim(0, 5)\n",
    "plt.xlabel('$log_2$ cell count')\n",
    "plt.ylabel('5-EU Intensity (nuc/cyto)')\n",
    "plt.title('Single cell nuclear 5-EU intensity vs volume')"
   ]
  },
  {
   "cell_type": "markdown",
   "id": "c7d4d2a9-ca8e-445b-bd4e-b4392304abb4",
   "metadata": {},
   "source": [
    "We can clearly see that around cycle 10 we have the first transcriptionally active cells. There is a problem with overplotting tough as all the cells in an embryo have the same cell count. Let's try plotting cell size vs 5-EU intensity."
   ]
  },
  {
   "cell_type": "code",
   "execution_count": 19,
   "id": "70cf8770-5e61-482f-a41f-7dd6ce753ba9",
   "metadata": {},
   "outputs": [
    {
     "data": {
      "text/plain": [
       "Text(0.5, 1.0, 'Single cell nuclear 5-EU intensity vs cell volume')"
      ]
     },
     "execution_count": 19,
     "metadata": {},
     "output_type": "execute_result"
    },
    {
     "data": {
      "image/png": "[encoded data removed]",
      "text/plain": [
       "<Figure size 432x288 with 1 Axes>"
      ]
     },
     "metadata": {
      "needs_background": "light"
     },
     "output_type": "display_data"
    }
   ],
   "source": [
    "sns.scatterplot(x=to_plot['log_PhysicalSize'], y=to_plot['5-EU_0_Mean_nuc/cyto'], hue=to_plot['cycle'], s=3, alpha=0.5)\n",
    "ax.set_xscale('log')\n",
    "ax.tick_params(which='both', direction='in')\n",
    "\n",
    "plt.grid(linestyle='--')\n",
    "plt.xlim(6, 14)\n",
    "plt.ylim(0, 5)\n",
    "plt.xlabel('$ln($cell volume$)$')\n",
    "plt.ylabel('5-EU Intensity (nuc/cyto)')\n",
    "plt.title('Single cell nuclear 5-EU intensity vs cell volume')"
   ]
  },
  {
   "cell_type": "markdown",
   "id": "e3015a06-d474-469b-8eca-35201d78c369",
   "metadata": {},
   "source": [
    "### Exercise 5:\n",
    "Plot the nuclear to cytoplasmic ratio vs 5-EU intensity on the single cell level."
   ]
  },
  {
   "cell_type": "code",
   "execution_count": 20,
   "id": "a32c5c3f-4136-4c88-9cb6-d07a0010e2df",
   "metadata": {},
   "outputs": [],
   "source": [
    "# your code here"
   ]
  },
  {
   "cell_type": "markdown",
   "id": "bb351e7f-7b06-49a9-afd1-2b3d62173785",
   "metadata": {},
   "source": [
    "### Exercise 6:\n",
    "Have a look at the [skewness](https://en.wikipedia.org/wiki/Skewness) of the 5-EU signal. What do you notice?  \n",
    "*Extra credit: Use 5-EU skewness and intensity to detect 'early onset' cells.*"
   ]
  },
  {
   "cell_type": "code",
   "execution_count": 21,
   "id": "0bf74026-d4fb-45a0-93d4-6c190ee92cee",
   "metadata": {},
   "outputs": [],
   "source": [
    "# your code here"
   ]
  }
 ],
 "metadata": {
  "kernelspec": {
   "display_name": "Python 3 (ipykernel)",
   "language": "python",
   "name": "python3"
  },
  "language_info": {
   "codemirror_mode": {
    "name": "ipython",
    "version": 3
   },
   "file_extension": ".py",
   "mimetype": "text/x-python",
   "name": "python",
   "nbconvert_exporter": "python",
   "pygments_lexer": "ipython3",
   "version": "3.9.7"
  },
  "toc-showcode": false
 },
 "nbformat": 4,
 "nbformat_minor": 5
}
