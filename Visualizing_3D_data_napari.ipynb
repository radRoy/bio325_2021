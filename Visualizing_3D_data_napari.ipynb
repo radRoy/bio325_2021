{
 "cells": [
  {
   "cell_type": "markdown",
   "id": "9c63eb92-1517-4709-9e3d-7791d936b549",
   "metadata": {
    "tags": []
   },
   "source": [
    "# Visualizing 3D data in napari\n",
    "In this tutorial, you will learn:\n",
    "- How to load images from hdf5 files\n",
    "- How to open images in napari\n",
    "- The difference between intensity images and label images\n",
    "- How to visualize measurements on images using a napari plugin\n",
    "- How to explore image data interactively"
   ]
  },
  {
   "cell_type": "markdown",
   "id": "7d339f27-0c6d-4f84-aff2-086a610049ec",
   "metadata": {},
   "source": [
    "(Legend of stainings & meanings, from the last slide in Introduction_slides.pdf)\n",
    "__Click-it and IF staining__  \n",
    "- Pool embryos across timepoints in an Eppi (Eppendorf tube)  \n",
    "- Click-it staining with __AF647-azide__ (following __5-EU__ (Ethynyl-uridine))  \n",
    "    - stains __zygotic RNA__, thus zygotic DNA expression?  \n",
    "    - on slide: 5-EU staining followed by TAMRA-azide for zygotic RNA staining.[[1]](https://www.thermofisher.com/order/catalog/product/E10345)  \n",
    "- IF against β-Catenin (568) and PCNA (405)  \n",
    "    - stained __bCatenin__ indicates location of cell membranes as it binds to cadherin.[[2]](https://en.wikipedia.org/wiki/Beta-catenin)[[3]](https://www.sciencedirect.com/topics/neuroscience/beta-catenin)  \n",
    "    - stained Proliferating cell nuclear antigen (__PCNA__) indicated nuclei of proliferating cells (among others, DNA replication protein recruiter by forming a ring around DNA double helix at replication site (before fork)).[[4]](https://link.springer.com/chapter/10.1007/978-94-007-4572-8_15)  \n",
    "- __SYTOX-488__ to stain __DNA__  \n",
    "- _5-EU stains 5' untranslated region => zygotic RNA => zygotic gene expression. \n",
    "- 2 replicates  \n",
    "\n",
    "__Questions__\n",
    "- How is Click-iT staining done exactly, i.e. what do which chemicals do?\n",
    "- Why does zygotic transcription appear to start at both 5'-ends of the zygotic DNA?\n",
    "    - If transcription usually starts at both DNA ends, are there coding regions on both strands? (Which would make sense, I suppose. For some reason I did not consider this, recently.)\n",
    "- (what does bcatenin stain?)\n",
    "- (what does pcna stain?)"
   ]
  },
  {
   "cell_type": "code",
   "execution_count": null,
   "id": "68e715f0-b5d0-4e48-924b-46b156961d9a",
   "metadata": {},
   "outputs": [],
   "source": [
    "import h5py\n",
    "# We import some custom functions to handle the hdf5 files\n",
    "from h5_files import h5_select, h5_summary, to_numpy"
   ]
  },
  {
   "cell_type": "code",
   "execution_count": null,
   "id": "4b5750aa-871e-4c2c-ba19-cdd34abfd9ff",
   "metadata": {},
   "outputs": [
    {
     "name": "stdout",
     "output_type": "stream",
     "text": [
      "filename:\t20210416_Timecourse5EU_s5_NA.h5\n",
      "condition:\tZE injected with 5-EU 2.5 - 5hpf, MeOH permeabilized, co-stained with SYTOX, bCatenin and PCNA\n",
      "\n",
      "       name             shape   dtype     size     element_size_um  img_type    stain cycle wavelength level\n",
      "    ch_00/0 (286, 2048, 2048)  uint16  2399.14 [1.0, 0.325, 0.325] intensity     5-EU     0        647     0\n",
      "    ch_00/1 (286, 1024, 1024)  uint16   599.79   [1.0, 0.65, 0.65] intensity     5-EU     0        647     1\n",
      "    ch_00/2   (286, 512, 512)  uint16   149.95     [1.0, 1.3, 1.3] intensity     5-EU     0        647     2\n",
      "    ch_01/0 (286, 2048, 2048)  uint16  2399.14 [1.0, 0.325, 0.325] intensity bCatenin     0        568     0\n",
      "    ch_01/1 (286, 1024, 1024)  uint16   599.79   [1.0, 0.65, 0.65] intensity bCatenin     0        568     1\n",
      "    ch_01/2   (286, 512, 512)  uint16   149.95     [1.0, 1.3, 1.3] intensity bCatenin     0        568     2\n",
      "    ch_02/0 (286, 2048, 2048)  uint16  2399.14 [1.0, 0.325, 0.325] intensity     PCNA     0        400     0\n",
      "    ch_02/1 (286, 1024, 1024)  uint16   599.79   [1.0, 0.65, 0.65] intensity     PCNA     0        400     1\n",
      "    ch_02/2   (286, 512, 512)  uint16   149.95     [1.0, 1.3, 1.3] intensity     PCNA     0        400     2\n",
      "    ch_03/0 (286, 2048, 2048)  uint16  2399.14 [1.0, 0.325, 0.325] intensity    SYTOX     0        488     0\n",
      "    ch_03/1 (286, 1024, 1024)  uint16   599.79   [1.0, 0.65, 0.65] intensity    SYTOX     0        488     1\n",
      "    ch_03/2   (286, 512, 512)  uint16   149.95     [1.0, 1.3, 1.3] intensity    SYTOX     0        488     2\n",
      "dist_border   (286, 512, 512) float32   299.89     [1.0, 1.3, 1.3]  distance   border    NA         NA     2\n",
      "   dist_top   (286, 512, 512) float32   299.89     [1.0, 1.3, 1.3]  distance      top    NA         NA     2\n",
      "  lbl_cells   (286, 512, 512)  uint16   149.95     [1.0, 1.3, 1.3]     label    cells    NA         NA     2\n",
      "   lbl_cyto   (286, 512, 512)  uint16   149.95     [1.0, 1.3, 1.3]     label     cyto    NA         NA     2\n",
      " lbl_emrybo   (286, 512, 512)    bool     9.37     [1.0, 1.3, 1.3]     label   embryo    NA         NA     2\n",
      "    lbl_mem   (286, 512, 512)  uint16   149.95     [1.0, 1.3, 1.3]     label membrane    NA         NA     2\n",
      "    lbl_nuc   (286, 512, 512)  uint16   149.95     [1.0, 1.3, 1.3]     label   nuclei    NA         NA     2\n",
      "\n",
      "\n"
     ]
    }
   ],
   "source": [
    "# Get an overview of what's in an hdf5 file\n",
    "file_path = r'bio325_material\\20210416_Timecourse5EU_s5_NA.h5'\n",
    "print(h5_summary(file_path))"
   ]
  },
  {
   "cell_type": "code",
   "execution_count": null,
   "id": "fb0e5322-2e75-430d-9b48-929f9ba45563",
   "metadata": {},
   "outputs": [],
   "source": [
    "# Load in the images from the hd5f file\n",
    "f = h5py.File(file_path, \"r\")\n",
    "sytox = h5_select(f, {'stain': 'SYTOX', 'level': 0})[0]\n",
    "sytox_np = to_numpy(sytox)"
   ]
  },
  {
   "cell_type": "code",
   "execution_count": null,
   "id": "4b3d63c2-4a70-4e7a-a9b4-3b69f86c6277",
   "metadata": {},
   "outputs": [
    {
     "name": "stdout",
     "output_type": "stream",
     "text": [
      "<HDF5 dataset \"0\": shape (286, 2048, 2048), type \"<u2\">\n",
      "(286, 2048, 2048)\n",
      "[[[ 5  0  2 ...  2 10  7]\n",
      "  [ 0  6  5 ...  0 10  5]\n",
      "  [ 0  6  0 ...  3  9  0]\n",
      "  ...\n",
      "  [ 0  0  0 ... 19 16 21]\n",
      "  [ 0  0 20 ...  0  9 14]\n",
      "  [ 0  2 16 ...  0  0 12]]\n",
      "\n",
      " [[ 4  0  0 ...  7  0  8]\n",
      "  [ 2  3  0 ...  6  6  0]\n",
      "  [ 1  3  4 ...  5  3  5]\n",
      "  ...\n",
      "  [ 2  4  2 ...  9  0  2]\n",
      "  [ 6 22 10 ...  4 14  0]\n",
      "  [ 8 16  2 ... 12 12  2]]]\n"
     ]
    }
   ],
   "source": [
    "# TODO: Check what we loaded with the h5_select function\n",
    "print(sytox)\n",
    "print(sytox.shape)  # numpy axis order of shape() = (z, x, y)\n",
    "print(sytox_np[0:2])"
   ]
  },
  {
   "cell_type": "code",
   "execution_count": null,
   "id": "32746ae2-b9c1-4d2c-8529-1da7b88bd4b9",
   "metadata": {},
   "outputs": [
    {
     "name": "stdout",
     "output_type": "stream",
     "text": [
      "<HDF5 dataset \"0\": shape (286, 2048, 2048), type \"<u2\">\n"
     ]
    }
   ],
   "source": [
    "# TODO: Load the PCNA, the bCatenin and the 5-EU images at level 0\n",
    "print(h5_select(f, {'stain': 'PCNA', 'level': 0})[0])\n",
    "PCNA = h5_select(f, {'stain': 'PCNA', 'level': 0})[0]\n",
    "PCNA_np = to_numpy(PCNA)\n",
    "\n",
    "bCatenin = h5_select(f, {'stain': 'bCatenin', 'level': 0})[0]\n",
    "bCatenin_np = to_numpy(bCatenin)\n",
    "\n",
    "zyg_5EU = h5_select(f, {'stain': '5-EU', 'level': 0})[0]\n",
    "zyg_5EU_np = to_numpy(zyg_5EU)"
   ]
  },
  {
   "cell_type": "code",
   "execution_count": null,
   "id": "9b47fcd8-50bc-4f25-aae4-2379d90d93a1",
   "metadata": {},
   "outputs": [],
   "source": [
    "# Loading the segmentation mask for the nuclei\n",
    "nuclei = h5_select(f, {'stain': 'nuclei', 'level': 2})[0]\n",
    "    # stain: nuclei has shape (286, 512, 512), does/could this create problems with plotting (different dimensions)?\n",
    "nuclei_np = to_numpy(nuclei)"
   ]
  },
  {
   "cell_type": "code",
   "execution_count": null,
   "id": "ae780458-d1a0-4c04-aa8f-0004f698d9a0",
   "metadata": {},
   "outputs": [],
   "source": [
    "# TODO: Load the segmentation masks for the cells & the membranes\n",
    "\n",
    "# loading segm. masks for cells\n",
    "cells = h5_select(f, {'stain': 'cells', 'level': 2})[0]\n",
    "cells_np = to_numpy(cells)\n",
    "\n",
    "# loading segm. masks for membranes\n",
    "membrane = h5_select(f, {'stain': 'membrane', 'level': 2})[0]\n",
    "membrane_np = to_numpy(membrane)"
   ]
  },
  {
   "cell_type": "code",
   "execution_count": null,
   "id": "d488a568-803d-4d5b-b0ce-c60d2c579239",
   "metadata": {},
   "outputs": [
    {
     "data": {
      "text/plain": [
       "['cellpose_cellprob_th',\n",
       " 'cellpose_d',\n",
       " 'element_size_um',\n",
       " 'img_type',\n",
       " 'level',\n",
       " 'stain']"
      ]
     },
     "execution_count": 10,
     "metadata": {},
     "output_type": "execute_result"
    }
   ],
   "source": [
    "# Each dataset contains the actual data plus some metadata attributes\n",
    "# As you can see here, the nuclear segmentation was done using cellpose: https://www.cellpose.org \n",
    "list(nuclei.attrs)"
   ]
  },
  {
   "cell_type": "markdown",
   "id": "01797a16-4615-4c42-9d3b-ff2f12e937b2",
   "metadata": {},
   "source": [
    "## The napari viewer\n",
    "napari is a fast, interactive, multi-dimensional image viewer for Python. It’s designed for browsing, annotating, and analyzing large multi-dimensional images.  \n",
    "https://napari.org"
   ]
  },
  {
   "cell_type": "code",
   "execution_count": null,
   "id": "b50708ad-5a8d-49ca-9d35-34f081a9b5aa",
   "metadata": {},
   "outputs": [],
   "source": [
    "import napari"
   ]
  },
  {
   "cell_type": "code",
   "execution_count": null,
   "id": "934f5d04-6626-4a81-a5b1-b0fad2a79eed",
   "metadata": {},
   "outputs": [
    {
     "data": {
      "text/plain": [
       "<Labels layer 'nuclei_np' at 0x2557615b520>"
      ]
     },
     "execution_count": 12,
     "metadata": {},
     "output_type": "execute_result"
    }
   ],
   "source": [
    "# Open the image and the segmentation in the napari viewer\n",
    "viewer = napari.view_image(sytox_np, scale=sytox.attrs['element_size_um'])\n",
    "viewer.add_labels(nuclei_np, scale=nuclei.attrs['element_size_um'])\n",
    "    # RuntimeError: Cannot run the event loop while another loop is running\n",
    "    # solution: I already had napari opened (in a separate window) - anyhow"
   ]
  },
  {
   "cell_type": "code",
   "execution_count": null,
   "id": "5d2bd6db-12f7-4154-8ed6-9e7518832d99",
   "metadata": {},
   "outputs": [
    {
     "data": {
      "text/plain": [
       "<Labels layer 'membrane_np' at 0x25594fe04c0>"
      ]
     },
     "execution_count": 13,
     "metadata": {},
     "output_type": "execute_result"
    }
   ],
   "source": [
    "# TODO: Add other intensity images & segmentations to the viewer & explore\n",
    "viewer.add_image(PCNA_np, scale=PCNA.attrs['element_size_um'])\n",
    "viewer.add_image(bCatenin_np, scale=bCatenin.attrs['element_size_um'])\n",
    "viewer.add_image(zyg_5EU_np, scale=zyg_5EU.attrs['element_size_um'])\n",
    "viewer.add_labels(cells_np, scale=cells.attrs['element_size_um'])\n",
    "viewer.add_labels(membrane_np, scale=membrane.attrs['element_size_um'])\n",
    "# Make sure to add the membrane segmentation to see the cell boundaries"
   ]
  },
  {
   "cell_type": "markdown",
   "id": "64d15dda-0065-4086-b8a4-cd7b39acb26b",
   "metadata": {
    "tags": []
   },
   "source": [
    "# Questions to look at during the exploration\n",
    "_**Hint**: Before answering the first 3 questions here, move on to the 4th and 5th and to the next cell._\n",
    "- How does nuclear size & cell size vary over the embryo?\n",
    "  - label layer: nuclei or membranes, dataframe ...nuclei.csv or membranes.csv, feature: _see below_ (roundness)\n",
    "  - biggest and roundest nuclei overlap mostly. physical size gives a clearer picture: ring formed area from top to bottom of blastula ('dome'), surrounding and surrounded laterally by smaller nuclei.\n",
    "- How does the 5-EU signal vary over the different nuclei and what does that mean?\n",
    "  - strongest signal at the very top and bottom layers. stronger signals from nuclei next to each other. Means that zygotic gene expression could be induced through contact with maternal cells (at top or bottom of blastula).\n",
    "- How does PCNA vary over the embryo and what does that mean?\n",
    "  - PCNA intensity overlaps very well with 5-EU intensity. Means that the most cell proliferation is happening where the cells started to express their own DNA.\n",
    "- What would you need to measure to quantitatively answer those questions?\n",
    "  - I would need some kind of visualisation method to show me the spatial distribution of the differing quantities asked about.\n",
    "- What potential technical biases do you see in the images that we should be aware of when quantifying them?\n",
    "  - The stainings must be applied evenly over the cells, otherwise intensity measurements are meaningless.\n",
    "  - I think some other things are meant here, what?"
   ]
  },
  {
   "cell_type": "markdown",
   "id": "edcfba97-8ffe-488b-ae81-f818ac87f4b0",
   "metadata": {},
   "source": [
    "## Visualize feature measurements\n",
    "Using the napari feature visualization plugin _(**Hint**: in napari: click tab 'Plugins > napari-feature-visualization > feature_vis' to e.g. colourmap labels)_, look at some of the features, e.g.:  \n",
    "- Physical Size of the nuclei or the cell. Roundness  \n",
    "- EU intensity (mean, skewness)  \n",
    "- PCNA intensities (mean)  \n",
    "\n",
    "Do the quantifications help you answer the questions above?"
   ]
  },
  {
   "cell_type": "markdown",
   "id": "73645d46-57f1-4e7e-9fa3-c1b8ed9854b4",
   "metadata": {},
   "source": [
    "__Prediction__: Sure they do - they help visualising exactly what I'm interested in, respectively what the questions are about. These quantifications do this by standardising a colourmap to the range of measurements in a certain label (e.g. EU intensity).\n",
    "\n",
    "__Observation__: Yes, they do - I didn't use anything else to answer above questions."
   ]
  },
  {
   "cell_type": "code",
   "execution_count": null,
   "id": "3309a92b-3c88-457a-bcf1-c1b67a9a1cb7",
   "metadata": {},
   "outputs": [],
   "source": []
  }
 ],
 "metadata": {
  "kernelspec": {
   "display_name": "Python 3 (ipykernel)",
   "language": "python",
   "name": "python3"
  },
  "language_info": {
   "codemirror_mode": {
    "name": "ipython",
    "version": 3
   },
   "file_extension": ".py",
   "mimetype": "text/x-python",
   "name": "python",
   "nbconvert_exporter": "python",
   "pygments_lexer": "ipython3",
   "version": "3.9.7"
  }
 },
 "nbformat": 4,
 "nbformat_minor": 5
}
