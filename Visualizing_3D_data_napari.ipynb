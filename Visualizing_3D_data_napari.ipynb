{
 "cells": [
  {
   "cell_type": "markdown",
   "id": "9c63eb92-1517-4709-9e3d-7791d936b549",
   "metadata": {
    "tags": []
   },
   "source": [
    "# Visualizing 3D data in napari\n",
    "In this tutorial, you will learn:\n",
    "- How to load images from hdf5 files\n",
    "- How to open images in napari\n",
    "- The difference between intensity images and label images\n",
    "- How to visualize measurements on images using a napari plugin\n",
    "- How to explore image data interactively"
   ]
  },
  {
   "cell_type": "code",
   "execution_count": 3,
   "id": "68e715f0-b5d0-4e48-924b-46b156961d9a",
   "metadata": {},
   "outputs": [],
   "source": [
    "import h5py\n",
    "# We import some custom functions to handle the hdf5 files\n",
    "from h5_files import h5_select, h5_summary, to_numpy"
   ]
  },
  {
   "cell_type": "code",
   "execution_count": 5,
   "id": "4b5750aa-871e-4c2c-ba19-cdd34abfd9ff",
   "metadata": {},
   "outputs": [
    {
     "name": "stdout",
     "output_type": "stream",
     "text": [
      "filename:\t20210416_Timecourse5EU_s5_NA.h5\n",
      "condition:\tZE injected with 5-EU 2.5 - 5hpf, MeOH permeabilized, co-stained with SYTOX, bCatenin and PCNA\n",
      "\n",
      "       name             shape   dtype     size     element_size_um  img_type    stain cycle wavelength level\n",
      "    ch_00/0 (286, 2048, 2048)  uint16  2399.14 [1.0, 0.325, 0.325] intensity     5-EU     0        647     0\n",
      "    ch_00/1 (286, 1024, 1024)  uint16   599.79   [1.0, 0.65, 0.65] intensity     5-EU     0        647     1\n",
      "    ch_00/2   (286, 512, 512)  uint16   149.95     [1.0, 1.3, 1.3] intensity     5-EU     0        647     2\n",
      "    ch_01/0 (286, 2048, 2048)  uint16  2399.14 [1.0, 0.325, 0.325] intensity bCatenin     0        568     0\n",
      "    ch_01/1 (286, 1024, 1024)  uint16   599.79   [1.0, 0.65, 0.65] intensity bCatenin     0        568     1\n",
      "    ch_01/2   (286, 512, 512)  uint16   149.95     [1.0, 1.3, 1.3] intensity bCatenin     0        568     2\n",
      "    ch_02/0 (286, 2048, 2048)  uint16  2399.14 [1.0, 0.325, 0.325] intensity     PCNA     0        400     0\n",
      "    ch_02/1 (286, 1024, 1024)  uint16   599.79   [1.0, 0.65, 0.65] intensity     PCNA     0        400     1\n",
      "    ch_02/2   (286, 512, 512)  uint16   149.95     [1.0, 1.3, 1.3] intensity     PCNA     0        400     2\n",
      "    ch_03/0 (286, 2048, 2048)  uint16  2399.14 [1.0, 0.325, 0.325] intensity    SYTOX     0        488     0\n",
      "    ch_03/1 (286, 1024, 1024)  uint16   599.79   [1.0, 0.65, 0.65] intensity    SYTOX     0        488     1\n",
      "    ch_03/2   (286, 512, 512)  uint16   149.95     [1.0, 1.3, 1.3] intensity    SYTOX     0        488     2\n",
      "dist_border   (286, 512, 512) float32   299.89     [1.0, 1.3, 1.3]  distance   border    NA         NA     2\n",
      "   dist_top   (286, 512, 512) float32   299.89     [1.0, 1.3, 1.3]  distance      top    NA         NA     2\n",
      "  lbl_cells   (286, 512, 512)  uint16   149.95     [1.0, 1.3, 1.3]     label    cells    NA         NA     2\n",
      "   lbl_cyto   (286, 512, 512)  uint16   149.95     [1.0, 1.3, 1.3]     label     cyto    NA         NA     2\n",
      " lbl_emrybo   (286, 512, 512)    bool     9.37     [1.0, 1.3, 1.3]     label   embryo    NA         NA     2\n",
      "    lbl_mem   (286, 512, 512)  uint16   149.95     [1.0, 1.3, 1.3]     label membrane    NA         NA     2\n",
      "    lbl_nuc   (286, 512, 512)  uint16   149.95     [1.0, 1.3, 1.3]     label   nuclei    NA         NA     2\n",
      "\n",
      "\n"
     ]
    }
   ],
   "source": [
    "# Get an overview of what's in an hdf5 file\n",
    "file_path = r'bio325_material\\20210416_Timecourse5EU_s5_NA.h5'\n",
    "print(h5_summary(file_path))"
   ]
  },
  {
   "cell_type": "code",
   "execution_count": 4,
   "id": "fb0e5322-2e75-430d-9b48-929f9ba45563",
   "metadata": {},
   "outputs": [],
   "source": [
    "# Load in the images from the hd5f file\n",
    "f = h5py.File(file_path, \"r\")\n",
    "sytox = h5_select(f, {'stain': 'SYTOX', 'level': 0})[0]\n",
    "sytox_np = to_numpy(sytox)"
   ]
  },
  {
   "cell_type": "code",
   "execution_count": null,
   "id": "4b3d63c2-4a70-4e7a-a9b4-3b69f86c6277",
   "metadata": {},
   "outputs": [],
   "source": [
    "# TODO: Check what we loaded with the h5_select function"
   ]
  },
  {
   "cell_type": "code",
   "execution_count": null,
   "id": "32746ae2-b9c1-4d2c-8529-1da7b88bd4b9",
   "metadata": {},
   "outputs": [],
   "source": [
    "# TODO: Load the PCNA, the bCatenin and the 5-EU images at level 0"
   ]
  },
  {
   "cell_type": "code",
   "execution_count": null,
   "id": "9b47fcd8-50bc-4f25-aae4-2379d90d93a1",
   "metadata": {},
   "outputs": [],
   "source": [
    "# Loading the segmentation mask for the nuclei\n",
    "nuclei = h5_select(f, {'stain': 'nuclei', 'level': 2})[0]\n",
    "nuclei_np = to_numpy(nuclei)"
   ]
  },
  {
   "cell_type": "code",
   "execution_count": null,
   "id": "ae780458-d1a0-4c04-aa8f-0004f698d9a0",
   "metadata": {},
   "outputs": [],
   "source": [
    "# TODO: Load the segmentation masks for the cells & the membranes"
   ]
  },
  {
   "cell_type": "code",
   "execution_count": null,
   "id": "d488a568-803d-4d5b-b0ce-c60d2c579239",
   "metadata": {},
   "outputs": [],
   "source": [
    "# Each dataset contains the actual data plus some metadata attributes\n",
    "# As you can see here, the nuclear segmentation was done using cellpose: https://www.cellpose.org \n",
    "list(nuclei.attrs)"
   ]
  },
  {
   "cell_type": "markdown",
   "id": "01797a16-4615-4c42-9d3b-ff2f12e937b2",
   "metadata": {},
   "source": [
    "## The napari viewer\n",
    "napari is a fast, interactive, multi-dimensional image viewer for Python. It’s designed for browsing, annotating, and analyzing large multi-dimensional images.  \n",
    "https://napari.org"
   ]
  },
  {
   "cell_type": "code",
   "execution_count": null,
   "id": "b50708ad-5a8d-49ca-9d35-34f081a9b5aa",
   "metadata": {},
   "outputs": [],
   "source": [
    "import napari"
   ]
  },
  {
   "cell_type": "code",
   "execution_count": null,
   "id": "934f5d04-6626-4a81-a5b1-b0fad2a79eed",
   "metadata": {},
   "outputs": [],
   "source": [
    "# Open the image and the segmentation in the napari viewer\n",
    "viewer = napari.view_image(sytox_np, scale=sytox.attrs['element_size_um'])\n",
    "viewer.add_labels(nuclei_np, scale=nuclei.attrs['element_size_um'])"
   ]
  },
  {
   "cell_type": "code",
   "execution_count": null,
   "id": "5d2bd6db-12f7-4154-8ed6-9e7518832d99",
   "metadata": {},
   "outputs": [],
   "source": [
    "# TODO: Add other intensity images & segmentations to the viewer & explore\n",
    "# Make sure to add the membrane segmentation to see the cell boundaries"
   ]
  },
  {
   "cell_type": "code",
   "execution_count": null,
   "id": "243053c5-0fdd-41b4-87e3-13d3f859644d",
   "metadata": {},
   "outputs": [],
   "source": []
  },
  {
   "cell_type": "markdown",
   "id": "64d15dda-0065-4086-b8a4-cd7b39acb26b",
   "metadata": {},
   "source": [
    "# Questions to look at during the exploration\n",
    "- How does nuclear size & cell size vary over the embryo?\n",
    "- How does the 5-EU signal vary over the different nuclei and what does that mean?\n",
    "- How does PCNA vary over the embryo and what does that mean?\n",
    "- What would you need to measure to quantitatively answer those questions?\n",
    "- What potential technical biases do you see in the images that we should be aware of when quantifying them?"
   ]
  },
  {
   "cell_type": "code",
   "execution_count": null,
   "id": "4f93d2bb-eef6-42bf-9af7-28f77e3dc484",
   "metadata": {},
   "outputs": [],
   "source": []
  },
  {
   "cell_type": "markdown",
   "id": "edcfba97-8ffe-488b-ae81-f818ac87f4b0",
   "metadata": {},
   "source": [
    "## Visualize feature measurements\n",
    "Using the napari feature visualization plugin, look at some of the features, e.g.:  \n",
    "- Physical Size of the nuclei or the cell. Roundness\n",
    "- EU intensity (mean, skewness)\n",
    "- PCNA intensities (mean)  \n",
    "Do the quantifications help you answer the questions above?"
   ]
  },
  {
   "cell_type": "code",
   "execution_count": null,
   "id": "e88ab668-2335-46fd-a48e-61e878767ca8",
   "metadata": {},
   "outputs": [],
   "source": []
  },
  {
   "cell_type": "code",
   "execution_count": null,
   "id": "115236f9-6a77-420a-aa1d-7865ff9ead6f",
   "metadata": {},
   "outputs": [],
   "source": []
  }
 ],
 "metadata": {
  "kernelspec": {
   "display_name": "Python 3 (ipykernel)",
   "language": "python",
   "name": "python3"
  },
  "language_info": {
   "codemirror_mode": {
    "name": "ipython",
    "version": 3
   },
   "file_extension": ".py",
   "mimetype": "text/x-python",
   "name": "python",
   "nbconvert_exporter": "python",
   "pygments_lexer": "ipython3",
   "version": "3.9.7"
  }
 },
 "nbformat": 4,
 "nbformat_minor": 5
}
